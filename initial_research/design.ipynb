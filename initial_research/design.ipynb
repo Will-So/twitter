{
 "cells": [
  {
   "cell_type": "markdown",
   "metadata": {},
   "source": [
    "# The Website"
   ]
  },
  {
   "cell_type": "markdown",
   "metadata": {},
   "source": [
    "http://wrapbootstrap.com/preview/WB0R5L90S"
   ]
  },
  {
   "cell_type": "markdown",
   "metadata": {},
   "source": [
    "# The Stages"
   ]
  },
  {
   "cell_type": "markdown",
   "metadata": {},
   "source": [
    "1. Get a working MVP\n",
    "2. Get a working "
   ]
  },
  {
   "cell_type": "markdown",
   "metadata": {},
   "source": [
    "# The Goal"
   ]
  },
  {
   "cell_type": "markdown",
   "metadata": {},
   "source": [
    "# The Dashboards"
   ]
  },
  {
   "cell_type": "markdown",
   "metadata": {},
   "source": [
    "## Tweets updated in real time\n",
    "\n",
    "- Should be updated in real time with e.g., \n",
    "- Filters for\n",
    "    - Language\n",
    "    - Region\n",
    "    - Word groups?\n",
    "    - Other demographics\n",
    "- AJAX to update it all\n",
    "\n",
    "\n",
    "## Network Overview for Suspected Daesh\n",
    "- Click on one to do an API search\n",
    "- Network reanalyzed at a rolling basis\n",
    "\n",
    "## Overview of the vulnerable people\n",
    "\n",
    "## Network of vulnerable people with suspects"
   ]
  }
 ],
 "metadata": {
  "kernelspec": {
   "display_name": "Python 3",
   "language": "python",
   "name": "python3"
  },
  "language_info": {
   "codemirror_mode": {
    "name": "ipython",
    "version": 3
   },
   "file_extension": ".py",
   "mimetype": "text/x-python",
   "name": "python",
   "nbconvert_exporter": "python",
   "pygments_lexer": "ipython3",
   "version": "3.4.3"
  }
 },
 "nbformat": 4,
 "nbformat_minor": 0
}
