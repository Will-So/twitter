{
 "cells": [
  {
   "cell_type": "markdown",
   "metadata": {},
   "source": [
    "# Social Enterprise"
   ]
  },
  {
   "cell_type": "markdown",
   "metadata": {},
   "source": [
    "- Biggest pain point is early stage funds. \n",
    "- Need to consistent continiuum of financial investments to enable them to scale their impact. \n",
    "- "
   ]
  },
  {
   "cell_type": "markdown",
   "metadata": {},
   "source": [
    "# Social Entrepreuership"
   ]
  },
  {
   "cell_type": "markdown",
   "metadata": {},
   "source": [
    "- Draw upon business techniques to find solutions to social problems. \n",
    "- Take into account the positive return to society. "
   ]
  },
  {
   "cell_type": "markdown",
   "metadata": {},
   "source": [
    "# Steps to creating an NGO"
   ]
  },
  {
   "cell_type": "markdown",
   "metadata": {},
   "source": [
    "[link](http://www.wango.org/NGONews/July08/HowToStartAnNGO.pdf)\n",
    "\n",
    "1. Establish a Purpose/Vision\n",
    "2. Establish and initial Board of Directors\n",
    "    - Strong legal, financial, and technological skills. \n",
    "3. Seek legal expertise\n",
    "    - Filing articles of incorporation\n",
    "    - Tax issues\n",
    "4. Choose a name\n",
    "5. Write articles of incorporation\n",
    "6. Draft Bylaws"
   ]
  }
 ],
 "metadata": {
  "kernelspec": {
   "display_name": "Python 3",
   "language": "python",
   "name": "python3"
  },
  "language_info": {
   "codemirror_mode": {
    "name": "ipython",
    "version": 3
   },
   "file_extension": ".py",
   "mimetype": "text/x-python",
   "name": "python",
   "nbconvert_exporter": "python",
   "pygments_lexer": "ipython3",
   "version": "3.4.3"
  }
 },
 "nbformat": 4,
 "nbformat_minor": 0
}
