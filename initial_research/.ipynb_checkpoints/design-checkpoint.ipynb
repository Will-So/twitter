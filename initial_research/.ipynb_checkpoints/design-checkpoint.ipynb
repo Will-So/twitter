{
 "cells": [
  {
   "cell_type": "markdown",
   "metadata": {},
   "source": [
    "# The Hypothesis"
   ]
  },
  {
   "cell_type": "markdown",
   "metadata": {},
   "source": [
    "We do not have much of a train set for this problem so we need to come up with a proper hypothesis for a change."
   ]
  },
  {
   "cell_type": "markdown",
   "metadata": {},
   "source": [
    "# The Tools at our Disposal"
   ]
  },
  {
   "cell_type": "markdown",
   "metadata": {},
   "source": [
    "## For Identifying the Recruiter Network\n",
    "- Network between the twitter handles\n",
    "- Location\n",
    "- Key words\n",
    "- Metadata\n",
    "- Sentiment Analysis\n",
    "- Image URLS\n",
    "\n",
    "\n",
    "## For Identifying those at danger of being recruited\n",
    "1. Various Metadata parts\n",
    "    - See Morgan's research for this one\n",
    "2. Image URLs and Image Handels\n",
    "3. Sentiment Analysis of the Twitter feed\n",
    "4. Certain keywrods "
   ]
  },
  {
   "cell_type": "markdown",
   "metadata": {},
   "source": [
    "# The Technologies that will be used"
   ]
  },
  {
   "cell_type": "markdown",
   "metadata": {},
   "source": [
    "## D3 and Flask\n",
    "- For the Final data product\n",
    "\n",
    "## Image Processing\n",
    "- To process the images and to link them up with potential terrorists\n",
    "- To process the images that they are showing\n",
    "\n",
    "## NLP\n",
    "- For the general sentiment analysis\n",
    "- TO extract what the peopla are writing about in the sentences\n",
    "- SpaCy\n",
    "- \n",
    "\n",
    "## Machine Learning Techniques\n",
    "- Unsupervised techniques to identify clusters that are suscicously similar\n",
    "    - DB Scan?\n",
    "    - Botzman network\n",
    "- "
   ]
  },
  {
   "cell_type": "markdown",
   "metadata": {},
   "source": [
    "# Storing the Data\n",
    "- MongoDB is probably not the best choice for this\n",
    "- Use a graph DB\n",
    "    - TinkerPop\n",
    "- PostGres might also be a good choice. "
   ]
  },
  {
   "cell_type": "markdown",
   "metadata": {},
   "source": [
    "# The Website"
   ]
  },
  {
   "cell_type": "markdown",
   "metadata": {},
   "source": [
    "http://wrapbootstrap.com/preview/WB0R5L90S"
   ]
  },
  {
   "cell_type": "markdown",
   "metadata": {},
   "source": [
    "# The Stages"
   ]
  },
  {
   "cell_type": "markdown",
   "metadata": {},
   "source": [
    "1. Get a working MVP\n",
    "2. Get a working "
   ]
  },
  {
   "cell_type": "markdown",
   "metadata": {},
   "source": [
    "# The Goal"
   ]
  },
  {
   "cell_type": "markdown",
   "metadata": {},
   "source": [
    "# The Dashboards"
   ]
  },
  {
   "cell_type": "markdown",
   "metadata": {},
   "source": [
    "## Tweets updated in real time\n",
    "\n",
    "- Should be updated in real time with e.g., \n",
    "- Filters for\n",
    "    - Language\n",
    "    - Region\n",
    "    - Word groups?\n",
    "    - Other demographics\n",
    "- AJAX to update it all\n",
    "\n",
    "\n",
    "## Network Overview for Suspected Daesh\n",
    "- Click on one to do an API search\n",
    "- Network reanalyzed at a rolling basis\n",
    "\n",
    "## Overview of the vulnerable people\n",
    "\n",
    "## Network of vulnerable people with suspects"
   ]
  }
 ],
 "metadata": {
  "kernelspec": {
   "display_name": "Python 3",
   "language": "python",
   "name": "python3"
  },
  "language_info": {
   "codemirror_mode": {
    "name": "ipython",
    "version": 3
   },
   "file_extension": ".py",
   "mimetype": "text/x-python",
   "name": "python",
   "nbconvert_exporter": "python",
   "pygments_lexer": "ipython3",
   "version": "3.4.3"
  }
 },
 "nbformat": 4,
 "nbformat_minor": 0
}
