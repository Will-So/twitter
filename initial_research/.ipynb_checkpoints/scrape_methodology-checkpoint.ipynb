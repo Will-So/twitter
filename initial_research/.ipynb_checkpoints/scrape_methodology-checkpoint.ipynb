{
 "cells": [
  {
   "cell_type": "markdown",
   "metadata": {},
   "source": [
    "# The Fundamental Methodology"
   ]
  },
  {
   "cell_type": "markdown",
   "metadata": {},
   "source": [
    "1. Pick a few seed accounts that have been manually picked to belong to ISIS\n",
    "2. Define the ISIS network based on the people who are following with then\n",
    "3. First step for potential recruits is recipricol followings\n",
    "\n",
    "Have a weighting system for ambiguity of follower"
   ]
  },
  {
   "cell_type": "markdown",
   "metadata": {},
   "source": [
    "## The Focus"
   ]
  },
  {
   "cell_type": "markdown",
   "metadata": {},
   "source": [
    "- Reduce noise by focusing on those following 500 or viewer others.\n",
    "- Limit seeds to accounts that had tweeted within four months preceeding the start of collection in September. This eliminates the Dawn of Glad Tidings auto-tweeting app.\n",
    "- ~500 accounts as seeds\n",
    "- Collect all the accounts they followed. \n",
    "- Remove accounts with more than 50k followers.\n",
    "\n",
    "![](https://dl.dropboxusercontent.com/u/97258109/Screens/S3480.png)\n",
    "\n",
    "- They collected data on 2MM accounts. "
   ]
  },
  {
   "cell_type": "markdown",
   "metadata": {},
   "source": [
    "## Complications"
   ]
  },
  {
   "cell_type": "markdown",
   "metadata": {},
   "source": [
    "- Twitter suspension responbile for the most significant challenges\n",
    "- Suspensions\n",
    "- Name changes and voluntary deletions. \n",
    "    - Able to account for name changes but some distortions may have occured.\n",
    "- Private accounts\n",
    "    - Some set their accounts temporarily to private or protect tweets\n",
    "- Multiple accounts by the same user\n",
    "- Non-organic noise.\n",
    "    - Some are instructed to follow a large number of accounts which were not relevant. This added noise\n",
    "- Tweet deletions\n",
    "- Deceptive practices Bots to amplify its apparent support\n",
    "- Size of the dataset"
   ]
  },
  {
   "cell_type": "markdown",
   "metadata": {},
   "source": [
    "## Dealing With Bots"
   ]
  },
  {
   "cell_type": "markdown",
   "metadata": {},
   "source": [
    "- ISIS is known to use a variety of deceptive techniques to inflate the apperance of support online\n",
    "- Use Identical tweets to detect bots and use twitter platform information\n",
    "    - identical tweets are retweets\n",
    "    - Accounts with more than 30 identical tweets are most likely to be bots \n",
    "    - Twitter client whether from the web page or a client. Many tweets sent by platforms clearly belonging to bots. \n",
    "    - about 5% of bots are being \n"
   ]
  },
  {
   "cell_type": "markdown",
   "metadata": {},
   "source": [
    "# Other Details "
   ]
  },
  {
   "cell_type": "markdown",
   "metadata": {},
   "source": [
    "- Check tweets to see that they are unambigously for ISIS. Examine User profile and images to see \n",
    "    - If that is not clear then look at followers. \n",
    "    - If suspended, they are a supporter. \n",
    "    - If user-deleted then 50% chance\n",
    "- Random sample can have 1000 datasets with an identical methodology. Go through in manually. \n",
    "- 2 million accounts at level 2 in order to estimate the accounts that were followed at level 0 or 1 who were not included"
   ]
  },
  {
   "cell_type": "code",
   "execution_count": null,
   "metadata": {
    "collapsed": true
   },
   "outputs": [],
   "source": []
  }
 ],
 "metadata": {
  "kernelspec": {
   "display_name": "Python 3",
   "language": "python",
   "name": "python3"
  },
  "language_info": {
   "codemirror_mode": {
    "name": "ipython",
    "version": 3
   },
   "file_extension": ".py",
   "mimetype": "text/x-python",
   "name": "python",
   "nbconvert_exporter": "python",
   "pygments_lexer": "ipython3",
   "version": "3.4.3"
  }
 },
 "nbformat": 4,
 "nbformat_minor": 0
}
