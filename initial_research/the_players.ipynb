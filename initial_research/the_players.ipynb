{
 "cells": [
  {
   "cell_type": "markdown",
   "metadata": {},
   "source": [
    "# Acumen"
   ]
  },
  {
   "cell_type": "markdown",
   "metadata": {},
   "source": [
    "- Non-profit global venture fund that uses entrepreneural approaches to solve the problems of poverty. \n",
    "- Incorporated with seed capital from the Rockerfeller foundation, Cisco systems. \n",
    "- 88M in investments\n",
    "- Businesses are more sustainable than giveaways because they earn profits and treat the poor as customers"
   ]
  },
  {
   "cell_type": "markdown",
   "metadata": {},
   "source": [
    "# Henry NGO "
   ]
  },
  {
   "cell_type": "markdown",
   "metadata": {},
   "source": [
    "- Senior COnsultant and Dloitte in Vancouver\n",
    "- CPA\n",
    "- 5 years addresses critical development challenges in energy, consumer business, \n",
    "- laucnhed two tech enterprises before 20\n",
    "- half year in India\n",
    "-  Ansaar Management Company (AMC) in Pakistan for affordable housing"
   ]
  }
 ],
 "metadata": {
  "kernelspec": {
   "display_name": "Python 3",
   "language": "python",
   "name": "python3"
  },
  "language_info": {
   "codemirror_mode": {
    "name": "ipython",
    "version": 3
   },
   "file_extension": ".py",
   "mimetype": "text/x-python",
   "name": "python",
   "nbconvert_exporter": "python",
   "pygments_lexer": "ipython3",
   "version": "3.4.3"
  }
 },
 "nbformat": 4,
 "nbformat_minor": 0
}
