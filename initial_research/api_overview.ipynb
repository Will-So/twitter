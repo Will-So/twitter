{
 "cells": [
  {
   "cell_type": "markdown",
   "metadata": {},
   "source": [
    "# User information"
   ]
  },
  {
   "cell_type": "markdown",
   "metadata": {},
   "source": [
    "`https://api.twitter.com/1.1/users/show.json`\n",
    "\n",
    "`{ \"errors\": [ { \"code\": 88, \"message\": \"Rate limit exceeded\" } ] }`"
   ]
  },
  {
   "cell_type": "markdown",
   "metadata": {},
   "source": [
    "- Allowed 180 requests/15 min. Each request can have up to 100 users\n",
    "\n",
    "\n",
    "\n",
    "Item | Notes\n",
    "-- | --\n",
    "Description | Describes the user themselves\n",
    "Entities | provide metadata about content posted on twitter. e.g., **hashtags**, media, w/ url, **URLs in tweet, other twitter users mentioned in the text, **. Each subobject has a bit more information\n",
    "Favorites Count |\n",
    "Followers count |\n",
    "Geo_enabled | geotagging for location.\n",
    "lang | language\n",
    "list_count | \"A great way to organize the people you follow and discovr new interesting accounts\"\n",
    "Name | \n",
    "Profile Image URL | Some website URLs might be common\n",
    "Location | Given location\n",
    "Profile banner url | \n",
    "Status: Created_at | time psot was created\n",
    "Favorite count | \n",
    "Coordinates |\n",
    "In reply to_* | Things like screen name or status id or user id\n",
    "Retweet count | \n"
   ]
  },
  {
   "cell_type": "markdown",
   "metadata": {},
   "source": [
    "# Get search/tweets"
   ]
  },
  {
   "cell_type": "markdown",
   "metadata": {},
   "source": [
    "[https://dev.twitter.com/rest/reference/get/search/tweets](https://dev.twitter.com/rest/reference/get/search/tweets)\n",
    "\n",
    "- 180 requests through user auth and 450 through app auth. \n",
    "- max count 100 but default is 15\n",
    "- No tweets that are older than a week\n",
    "- locale\n",
    "- geocode\n",
    "- lang\n",
    "- query"
   ]
  },
  {
   "cell_type": "markdown",
   "metadata": {},
   "source": [
    "# Avoiding being rate limited"
   ]
  },
  {
   "cell_type": "markdown",
   "metadata": {},
   "source": [
    "- Caching\n",
    "    - I will need to do this especially because of the multiple uers\n",
    "- Prioritize only active users\n",
    "- Adapt to search results\n",
    "- The streaming PAI doesn't count"
   ]
  },
  {
   "cell_type": "markdown",
   "metadata": {},
   "source": [
    "# The Streaming API"
   ]
  },
  {
   "cell_type": "markdown",
   "metadata": {},
   "source": [
    "[link](https://dev.twitter.com/streaming/overview)\n",
    "\n",
    "- Low latency access to Twitter's \n",
    "- Three types of streams\n",
    "    1. User Streams that contain all the data corresponding with a single user's view of twitter\n",
    "        - Maybe use this for a custom account?\n",
    "    2. SIte Streams\n",
    "        - servers which must connect to twitter on behalf of many users\n",
    "    3. Public Streams: Suitable for following specifc users or topics, and data mining"
   ]
  },
  {
   "cell_type": "markdown",
   "metadata": {},
   "source": [
    "## POST statuses/Filters\n",
    "\n",
    "- Returns Public statuses that match one or more of the filter predicates. Both get and post requests are supported but GET requests may cause the request to be length to avoid long URLs. \n",
    "- 400 track keywords, 5000 follow userids and 25 0.1-360 degree location boxes\n",
    "- can track userids, keywords (track), locations. "
   ]
  },
  {
   "cell_type": "markdown",
   "metadata": {},
   "source": [
    "# GNIP"
   ]
  },
  {
   "cell_type": "markdown",
   "metadata": {},
   "source": [
    "There might be something in the trial here. "
   ]
  },
  {
   "cell_type": "markdown",
   "metadata": {},
   "source": [
    "# Things that would help from twitter\n",
    "- data older than a year\n",
    "- "
   ]
  },
  {
   "cell_type": "markdown",
   "metadata": {},
   "source": [
    "# Case study Bleacher Report"
   ]
  },
  {
   "cell_type": "markdown",
   "metadata": {},
   "source": [
    "- Use the Twitter API to monitor news stories\n",
    "- Use tweetdeck and twitter lists to break stories and monitor hundreds of streams\n",
    "- Use search API and embeds to research direct quotes\n",
    "- Render tweets alongside original content. "
   ]
  }
 ],
 "metadata": {
  "kernelspec": {
   "display_name": "Python 3",
   "language": "python",
   "name": "python3"
  },
  "language_info": {
   "codemirror_mode": {
    "name": "ipython",
    "version": 3
   },
   "file_extension": ".py",
   "mimetype": "text/x-python",
   "name": "python",
   "nbconvert_exporter": "python",
   "pygments_lexer": "ipython3",
   "version": "3.4.3"
  }
 },
 "nbformat": 4,
 "nbformat_minor": 0
}
