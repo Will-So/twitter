{
 "cells": [
  {
   "cell_type": "markdown",
   "metadata": {},
   "source": [
    "# Jonathon Questions "
   ]
  },
  {
   "cell_type": "markdown",
   "metadata": {},
   "source": [
    "Dance around the idea of giving up the dataset and see if we can convince him to do it. Think of questions that would lead to this offer. Data would be even better. Reference the further research thing and the importance of users and that it would make the research very reproducible.\n",
    "\n",
    "This is always an awkward thing, even when the researhc is funded by tax-payers. "
   ]
  },
  {
   "cell_type": "markdown",
   "metadata": {},
   "source": [
    "**methodology**\n",
    "\n",
    "\n",
    "\n",
    "1. Have you done any further work on this lately\n",
    "2. How feasible is what we  are doing?\n",
    "    - How would your approach finding potential recruits\n",
    "4. What interest has there been from the government regarding your results?\n",
    "5. Is there a market for selling this data?\n",
    "    - To think tanks?\n",
    "    - To governments? \n",
    "6. How big of a problem was the rate limit? Did you ever ask Twitter to lift the limit?\n",
    "    - How much would it cost?\n",
    "7. Useful people to advocate the model to."
   ]
  },
  {
   "cell_type": "markdown",
   "metadata": {},
   "source": [
    "# General Notes"
   ]
  },
  {
   "cell_type": "markdown",
   "metadata": {},
   "source": [
    "2. How would you approach this idea of finding multiple recruits"
   ]
  },
  {
   "cell_type": "markdown",
   "metadata": {},
   "source": [
    "- There exists the thing for direct messages here. "
   ]
  },
  {
   "cell_type": "markdown",
   "metadata": {},
   "source": [
    "# Brendan Meeting\n",
    "1. Introduction. \n",
    "\t- Henry told me a bit about your background in Iraw\n",
    "\t- How did you meet Henry?\n",
    "\n",
    "2. What do you think about the project? \n",
    "\t- How much graph theory experience do you have? \n",
    "\n",
    "2. Questions\n",
    "- A means to keep track of ever-evolving recruiter networks\n",
    "- A means to identify youth at risk of recruitment to forward to the mothers network for intervention\n",
    "\t- What types of things would you look at \n",
    "- Emotional sentiment analysis (what is their emotional state and where are they coming from) on:\n",
    "\t- Those at risk of recruitment\n",
    "\t- Those already radicalized and in Syria\n",
    "\t- Those already radicalized and in developed western countries\n",
    "\t- The recruiters themselves\n",
    "\t\t- Utopian side of everything vs the brutal side\n",
    "\t\t- Female side of everything \n",
    "- Canadian born son of an immigrant from Iraq and more likely to become a lone wolf? \n",
    "- statscanada \n",
    "- Census probability from an immigrant family. \n",
    "\t- Population density\n",
    "- Change in sentiment after geopolitical events. \n",
    "\t- U.S. making some sort of goof\n",
    "\t- \n",
    "\n",
    "3. Questions about Jonathan\n",
    "\n",
    "\n",
    "# My Answers to the questions\n",
    "1. A means to keep track of ever-evolving recruiter networks\n",
    "\t- Monitor Ctrl-Sec\n",
    "\t- Use a certain percentage of the daily calls that I have to look deeper at the network and get a good view of the entire network stream. \n",
    "2. Means to identify at-risk youth\n",
    "\t- Initial filtering with graph theory.\n",
    "\t- Do sentiment analysis on top of that along with manual looking at the possibilities\n",
    "\t- Word matching Phrases critical of christianity? Trinity? Phrases \n",
    "\t- Some other features? Location?\n",
    "3. Emotional Analysis\n",
    "\t- Just follow them and see what is going on from there.\n",
    "\t- Be sure to compare it against the normal thing."
   ]
  },
  {
   "cell_type": "code",
   "execution_count": null,
   "metadata": {
    "collapsed": true
   },
   "outputs": [],
   "source": []
  }
 ],
 "metadata": {
  "kernelspec": {
   "display_name": "Python 3",
   "language": "python",
   "name": "python3"
  },
  "language_info": {
   "codemirror_mode": {
    "name": "ipython",
    "version": 3
   },
   "file_extension": ".py",
   "mimetype": "text/x-python",
   "name": "python",
   "nbconvert_exporter": "python",
   "pygments_lexer": "ipython3",
   "version": "3.4.3"
  }
 },
 "nbformat": 4,
 "nbformat_minor": 0
}
