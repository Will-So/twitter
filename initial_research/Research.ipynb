{
 "cells": [
  {
   "cell_type": "markdown",
   "metadata": {},
   "source": [
    "# Rukmini Callimachi"
   ]
  },
  {
   "cell_type": "markdown",
   "metadata": {},
   "source": [
    "- 23 year old going to fight in Syria. \n",
    "- Effectivness is vastle extended by larger rings of sympathetic volunteers and fans who pass on its messages and viewpoint.\n",
    "- Alex's onine circle has some operated by people who directly identified themselves as members of the islamic state\n",
    "- **Enticing the lonely**\n",
    "    - Girl lived in the middle of nowhere\n",
    "    - Logged onto twitter to see if she could find out more\n",
    "    - Recommendations in a manual written by Al Qaeda in Iraq is the blueprint\n",
    "   "
   ]
  },
  {
   "cell_type": "markdown",
   "metadata": {},
   "source": [
    "# Al Qaeda Guide"
   ]
  },
  {
   "cell_type": "markdown",
   "metadata": {},
   "source": [
    "Reviewed in the archive of the Conflict Records and Research Center. \n",
    "\n",
    "1. Spend as much time as possible with prospective recruits\n",
    "2. Listen to conversation carefully and share his joy and sadness\n",
    "3. Start with religious rituals and concentrate on tem\n",
    "3. "
   ]
  },
  {
   "cell_type": "markdown",
   "metadata": {},
   "source": [
    "# http://luckytroll.club/"
   ]
  },
  {
   "cell_type": "markdown",
   "metadata": {},
   "source": [
    "- Most of them seem to be in Arabic. \n",
    "- [All Suspected ISIS accounts](https://luckytroll.club/daesh/ISISBlock.htm). 13k Are still active. \n",
    "- [Last 30 days](https://luckytroll.club/daesh/BadPennies.htm)"
   ]
  },
  {
   "cell_type": "code",
   "execution_count": null,
   "metadata": {
    "collapsed": true
   },
   "outputs": [],
   "source": []
  }
 ],
 "metadata": {
  "kernelspec": {
   "display_name": "Python 3",
   "language": "python",
   "name": "python3"
  },
  "language_info": {
   "codemirror_mode": {
    "name": "ipython",
    "version": 3
   },
   "file_extension": ".py",
   "mimetype": "text/x-python",
   "name": "python",
   "nbconvert_exporter": "python",
   "pygments_lexer": "ipython3",
   "version": "3.4.3"
  }
 },
 "nbformat": 4,
 "nbformat_minor": 0
}
