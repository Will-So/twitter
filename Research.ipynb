{
 "cells": [
  {
   "cell_type": "markdown",
   "metadata": {},
   "source": [
    "# Rukmini Callimachi"
   ]
  },
  {
   "cell_type": "markdown",
   "metadata": {},
   "source": [
    "- 23 year old going to fight in Syria. \n",
    "- Effectivness is vastle extended by larger rings of sympathetic volunteers and fans who pass on its messages and viewpoint.\n",
    "- Alex's onine circle has some operated by people who directly identified themselves as members of the islamic state\n",
    "- **Enticing the lonely**\n",
    "    - Girl lived in the middle of nowhere\n",
    "    - Logged onto twitter to see if she could find out more\n",
    "    - Recommendations in a manual written by Al Qaeda in Iraq is the blueprint\n",
    "    - They were always online\n",
    "    - Textbook approach to luring christians to radical islam\n",
    "        - \"Islam is the correction of christianity\"\n",
    "    - One of her sisters sent Alex a $200 gift card to the Islamic bookstore\n",
    "    - Each day he had prepared a lesson and kept it all strictly platonic\n",
    "    - \"Hallie Sheikh Twitter handle came to public attention: That account had briefly interacted with Elton Simpson, the\"\n",
    "    - \"Week after she converted, she had still not met any muslims in real life\"\n",
    "    - \n",
    "    \n",
    "   "
   ]
  },
  {
   "cell_type": "markdown",
   "metadata": {},
   "source": [
    "# Al Qaeda Guide"
   ]
  },
  {
   "cell_type": "markdown",
   "metadata": {},
   "source": [
    "Reviewed in the archive of the Conflict Records and Research Center. \n",
    "\n",
    "1. Spend as much time as possible with prospective recruits\n",
    "2. Listen to conversation carefully and share his joy and sadness\n",
    "3. Start with religious rituals and concentrate on tem\n",
    "3. "
   ]
  },
  {
   "cell_type": "markdown",
   "metadata": {},
   "source": [
    "# http://luckytroll.club/"
   ]
  },
  {
   "cell_type": "markdown",
   "metadata": {},
   "source": [
    "- Most of them seem to be in Arabic. \n",
    "- [All Suspected ISIS accounts](https://luckytroll.club/daesh/ISISBlock.htm). 13k Are still active. \n",
    "- [Last 30 days](https://luckytroll.club/daesh/BadPennies.htm)"
   ]
  },
  {
   "cell_type": "markdown",
   "metadata": {},
   "source": [
    "# Mubin Shaikh"
   ]
  },
  {
   "cell_type": "markdown",
   "metadata": {},
   "source": [
    "- Former islamist recruiter who testified before congress."
   ]
  },
  {
   "cell_type": "markdown",
   "metadata": {},
   "source": [
    "# Middle East Media Research Institute\n",
    "\n",
    "Washington based group that monotirs jihadist propaganda. "
   ]
  },
  {
   "cell_type": "markdown",
   "metadata": {},
   "source": [
    "# What ISIS wants"
   ]
  },
  {
   "cell_type": "markdown",
   "metadata": {},
   "source": [
    "- Throwback to midevil times\n",
    "- Very loyal to the qoran. \n",
    "- "
   ]
  },
  {
   "cell_type": "markdown",
   "metadata": {},
   "source": [
    "# Daqiq"
   ]
  },
  {
   "cell_type": "markdown",
   "metadata": {},
   "source": [
    "This is the main Islamic magazine\n",
    "\n",
    "http://www.clarionproject.org/news/islamic-state-isis-isil-propaganda-magazine-dabiq\n",
    "\n"
   ]
  },
  {
   "cell_type": "markdown",
   "metadata": {},
   "source": [
    "# The Twitter Census"
   ]
  },
  {
   "cell_type": "markdown",
   "metadata": {},
   "source": [
    "- Don't have a large audience compared to Justin Bieber. Can distribute messages very quickly.\n",
    "\n",
    "Goals of the project were 1) create a demographic snapshot of ISIS supporters, 2) Outline methodology for discovering and defining relevant accounts to serve as a basis for future research, and 3) find effects of suspension\n",
    "\n",
    "- Maximum estimate is 70k accounts. \n",
    "- Almost one in five ISIS supporters selected English as their primary language\n",
    "- 1000 followers each. \n",
    "- Suspensions do have conrete efforts in limiting the reach and scope of ISIS activities. \n",
    "- Evaluated tweeting patterns using two sets of data\n",
    "    - Data collected for the study that analyzed data based on the user's most recent 200 tweets.\n",
    "    - Data based on more than 18k accounts active in late December under the same usernames that were identified in the initial collection of data\n",
    "- About 69% of of ISIS supporters sent fewer than 5 tweets per day on average. \n",
    "- Decent percentage tweeted quite a lot on average. \n",
    "- Much more active than the average twitter user. \n",
    "- \n",
    "\n",
    "\n",
    "## technical details\n",
    "- Had to work around bots that were meant to inflate estimates\n",
    "- seed data\n",
    "- twitters API was causing them issues. \n",
    "- very few users in the dataset opted to enable coordinates \n",
    "    - 1.5% vs 2% of total twitter uers\n",
    "- Have to use locations claimed in profile.\n",
    "    - Saudi arabia number 1 with about 20% of all listings. US number 4 with aout 10%\n",
    "    - Can also use time zones and bio field\n",
    "    - Used third party algorithm to resolve entries to the country level. \n",
    "    - Some ISIS supporters deceptively list locations in the U.S. in order to create tha ppearance of a homeland threat. \n",
    "    - American timezones are 6.3% of the total and about 15% of users specified a timezone\n",
    "- Choice of language is important when navigating the website so this might be true. 18% selected english. Tracks foreign fighters\n",
    "- look for the words of countries in the post\n",
    "- look at handles and display names\n",
    "- consider twitters own growth but not that big\n",
    "- avoid duplicating data. 300 causes of tweetdeck or hootsuite\n",
    "- collect each users last 200 tweets \n",
    "    - extension: high priority, do more\n",
    "-  Da'ish is a negative term for non-responsive accounts\n",
    "- top links doesn't seem useful\n",
    "- \"The regional accounts were mostly marked private, al- though some were seen to switch to public tweets at times, and they were connected to other private accounts that appear to be an essential part of the functioning of the semi-official account network.\"\n",
    "- Only 4% had more than 500 followers\n",
    "- 8.4% followed 1000-2000 accounts\n",
    "- Friends = Followers\n",
    "- Followers to following ratio is a barometer for the influence of a twitter account.\n",
    "- **about 44% of all followers were other users within the census dataste**\n",
    "- ISIS users are an insignificant speck in the overall sea of Twitter's active monthly user base of 284MM\n",
    "- Users who were suspended are far more active and their content was far more likely to be viral. \n",
    "- Terrorists attacked Charlie Hebdo in the midst of Jan collection. This resulted in a spike of tweeting from ISIS supporters. \n",
    "\n",
    "## Methodology\n",
    "- Starting list consisted of 4700 accounts around the time the project began.\n",
    "- Some non-supporters show up including journalists and academic researchers. \n",
    "- Data collected using propriotary software originally coded by Dan Sturtevant.\n",
    "- Supporters could be defined as someone who was followed by at least one other ISIS supporter rather than someone who tweeted specific content within a particular time frame\n",
    "- limited seed accounts\n",
    "- Some people use twitter purely for private messaging or covert signaling. \n",
    "- Followers tend to be misleading because they include adversaries spies, and researchers. \n",
    "    - These guys will not be followed by any ISIS members.\n",
    "- Use the following sorting metrics\n",
    "![](https://dl.dropboxusercontent.com/u/97258109/Screens/S3481.png)\n",
    "    - Cliques are network structures in which every node is connected to every other node\n",
    "    - Limitation on the Clique: Impose limits \n",
    "        - Tried iterative deepening approach and top-vertices approach. \n",
    "        - Opted to use in-network focus to identify the most\n",
    "\n",
    "\n",
    "### In-Network Focus\n",
    ">In-network focus indicates whether a member of the network follows more accounts within the Level 0 and Level 1 network than outside (total number of friends minus in-network friends). Since Level 0 was\n",
    "comprised entirely of ISIS supporters and Level 1 was heavily slanted toward ISIS supporters, we theorized that users whose networks were more concentrated internally would be more likely to be ISIS supporters.\n",
    "We also chose the 100 most internally focused ac- counts as a starting point to generate cliques.\n",
    "\n",
    "This did not perform well. They combined the ratio of in-network-followers to out-of-network followers. \n",
    "\n",
    "\n",
    "### The ratio of in-network to out of network\n",
    "\n",
    ">-  In-network friends;\n",
    "-  In-network followers multiplied by eight for\n",
    "weighting purposes;\n",
    "- The sum of the in-network friends of all the users\n",
    "in the largest clique to which the user belonged,\n",
    "multiplied by 16;\n",
    "- We added one metric that may be peculiar to this\n",
    "dataset. In the wake of Twitter’s suspension cam- paign, users responded by aggressively promoting new accounts. Typically, tweets promoting ISIS accounts included a list of accounts with descrip- tive text. Our analysis broke these out as “non- reply mentions”— the inclusion of a Twitter han-\n",
    "\n",
    "\n",
    "The sum of these measurements were then multiplide by the ratio of the user's followers within the network (Levels 0/1) divided by the number outside the network. This did badly in the bottom reaches.\n",
    "\n",
    "## Not included accounts\n",
    "1. Covert supporters of ISIS.\n",
    "    - Users who took medium to strong steps to conceal their support due to fear of prosecution.\n",
    "2. Pro-ISIS intelligence operators\n",
    "3. Anti-ISIS IO. \n",
    "\n",
    "\n",
    "![](https://dl.dropboxusercontent.com/u/97258109/Screens/S3458.png)\n",
    "![](https://dl.dropboxusercontent.com/u/97258109/Screens/S3459.png)\n",
    "\n",
    "![](https://dl.dropboxusercontent.com/u/97258109/Screens/S3460.png)\n",
    "![](https://dl.dropboxusercontent.com/u/97258109/Screens/S3468.png)\n",
    "![](https://dl.dropboxusercontent.com/u/97258109/Screens/S3469.png)\n",
    "\n",
    "\n",
    "# Finding the total number of ISIS members\n",
    "- sample 2m random ones and look at the profile descriptions in a model trainde in ISIS supporters. \n",
    "\n",
    "![](https://dl.dropboxusercontent.com/u/97258109/Screens/S3482.png)\n",
    "\n",
    "- 70% success rate. \n",
    "## ISIS supporters\n",
    "- Take months of years to collect the values required to calculate ISIS supporters. \n",
    "    - Used Feature selection\n",
    "    - IQI metric was much more accurate. 65-95k ISIS supporters\n",
    "    \n",
    "    \n",
    "## Intelligence Value\n",
    "- GPS coordinates in ISIS terrotires\n",
    "- Can use GPS coordinates and Social network analysis to guess which of their online friends are also located there. \n",
    "- The volume of collected tweets and the number of languages employed by users created prohibi- tive obstacles to an algorithmic evaluation of the content posted within the time and budget of this project.\n",
    "- Additionally, by monitoring the combined feeds on a large-screen TV, it was often possible to evalu- ate—literally at a glance—the importance of new media material, themes, and issues. \n",
    "\n",
    ">Our anecdotal observation indicates that the most valuable intelligence tends to emanate from the least obvious vectors, such as accounts with very small numbers of followers. The most active and visible ac- counts contain more noise, and their content is more carefully stage-managed by ISIS and its adherents. Based on both anecdotal observation and ISIS social media strategy documents, original information tends to flow from more obscure accounts to more visible accounts such the mujtahidun, the core group of ISIS supporters devoted to disseminating information that originates elsewhere.\n",
    "\n",
    "\n",
    "## Policy Recommendation\n",
    ">Second, this research clearly points to possible methodologies for actively monitoring the evolu- tion of ISIS’s social network over time, allowing for much more precise evaluations of the number of suspensions occurring over time, and the short and long term effects of those suspensions.\n",
    "\n",
    ">A project of this sort would create a massive res- ervoir of open-source data on ISIS and its use of social media, and it is technically feasible barring a sea change in Twitter’s rules for data access.\n",
    "\n",
    "> In principle, the best approach this problem would be to run an analysis similar to that used in this study on an iterative and continuing ba- sis—after addressing some technical challenges, including the size of the dataset and the amount of time required for collection. Analysts could then define new seed accounts from the collect- ed data, according to replicable criteria, run the complete analysis, and then create new seeds us- ing the same criteria and run the analysis again"
   ]
  },
  {
   "cell_type": "code",
   "execution_count": null,
   "metadata": {
    "collapsed": true
   },
   "outputs": [],
   "source": []
  }
 ],
 "metadata": {
  "kernelspec": {
   "display_name": "Python 3",
   "language": "python",
   "name": "python3"
  },
  "language_info": {
   "codemirror_mode": {
    "name": "ipython",
    "version": 3
   },
   "file_extension": ".py",
   "mimetype": "text/x-python",
   "name": "python",
   "nbconvert_exporter": "python",
   "pygments_lexer": "ipython3",
   "version": "3.4.3"
  }
 },
 "nbformat": 4,
 "nbformat_minor": 0
}
