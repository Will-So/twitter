{
 "cells": [
  {
   "cell_type": "markdown",
   "metadata": {},
   "source": [
    "Italian\n",
    "\n",
    "ixi_515\n",
    "\n",
    "https://twitter.com/intent/user?user_id=3259862209\n",
    "https://twitter.com/JumaKarimbi\n",
    "https://twitter.com/intent/user?user_id=239972626\n",
    "https://twitter.com/intent/user?user_id=608027193\n",
    "https://twitter.com/Palace_Scholar1\n",
    "https://twitter.com/intent/user?user_id=438527099 french\n",
    "https://twitter.com/intent/user?user_id=3195424489\n",
    "https://twitter.com/intent/user?user_id=3222362190\n",
    "https://twitter.com/intent/user?user_id=3657001812\n",
    "https://twitter.com/intent/user?user_id=3253871238\n",
    "https://twitter.com/intent/user?user_id=3318120522 (unclear)\n",
    "https://twitter.com/intent/user?user_id=2596645092"
   ]
  }
 ],
 "metadata": {
  "kernelspec": {
   "display_name": "Python 3",
   "language": "python",
   "name": "python3"
  },
  "language_info": {
   "codemirror_mode": {
    "name": "ipython",
    "version": 3
   },
   "file_extension": ".py",
   "mimetype": "text/x-python",
   "name": "python",
   "nbconvert_exporter": "python",
   "pygments_lexer": "ipython3",
   "version": "3.4.3"
  }
 },
 "nbformat": 4,
 "nbformat_minor": 0
}
